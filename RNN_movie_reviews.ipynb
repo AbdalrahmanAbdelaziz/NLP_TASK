{
  "nbformat": 4,
  "nbformat_minor": 0,
  "metadata": {
    "colab": {
      "provenance": [],
      "gpuType": "T4",
      "authorship_tag": "ABX9TyNQFH4lXjEKZuaGvJK7iFco",
      "include_colab_link": true
    },
    "kernelspec": {
      "name": "python3",
      "display_name": "Python 3"
    },
    "language_info": {
      "name": "python"
    },
    "accelerator": "GPU"
  },
  "cells": [
    {
      "cell_type": "markdown",
      "metadata": {
        "id": "view-in-github",
        "colab_type": "text"
      },
      "source": [
        "<a href=\"https://colab.research.google.com/github/AbdalrahmanAbdelaziz/NLP_TASK/blob/main/RNN_movie_reviews.ipynb\" target=\"_parent\"><img src=\"https://colab.research.google.com/assets/colab-badge.svg\" alt=\"Open In Colab\"/></a>"
      ]
    },
    {
      "cell_type": "code",
      "execution_count": null,
      "metadata": {
        "id": "0tpfCypqbD4M"
      },
      "outputs": [],
      "source": [
        "import tensorflow as tf\n",
        "from tensorflow.keras import layers , models\n",
        "from keras.datasets import imdb\n",
        "from keras.preprocessing import sequence\n",
        "from keras.callbacks import TensorBoard"
      ]
    },
    {
      "cell_type": "code",
      "source": [
        "max_features = 5000\n",
        "num_classes = 1\n",
        "batch_size = 64\n",
        "max_len = 100\n",
        "embedding_size = 64\n",
        "dropout_rate = 0.5\n",
        "hidden_layers_size = 250\n",
        "num_epochs = 5"
      ],
      "metadata": {
        "id": "ejHbEKb3cGC8"
      },
      "execution_count": null,
      "outputs": []
    },
    {
      "cell_type": "code",
      "source": [
        "(x_train, y_train), (x_test, y_test) = imdb.load_data(num_words=max_features)\n",
        "print('Data loaded successfully')"
      ],
      "metadata": {
        "colab": {
          "base_uri": "https://localhost:8080/"
        },
        "id": "dFAjLUibdjfh",
        "outputId": "4f5e3e19-0b95-424b-dba8-8747cca3b577"
      },
      "execution_count": null,
      "outputs": [
        {
          "output_type": "stream",
          "name": "stdout",
          "text": [
            "Data loaded successfully\n"
          ]
        }
      ]
    },
    {
      "cell_type": "code",
      "source": [
        "print('# Train Data = ', len(x_train))\n",
        "print('# Test Data = ', len(x_test))"
      ],
      "metadata": {
        "colab": {
          "base_uri": "https://localhost:8080/"
        },
        "id": "FW8phtPbd5Qt",
        "outputId": "6308c702-2f92-4317-e2ec-1aaa07e9a73f"
      },
      "execution_count": null,
      "outputs": [
        {
          "output_type": "stream",
          "name": "stdout",
          "text": [
            "# Train Data =  25000\n",
            "# Test Data =  25000\n"
          ]
        }
      ]
    },
    {
      "cell_type": "code",
      "source": [
        "x_train = sequence.pad_sequences(x_train, maxlen=max_len)\n",
        "x_test = sequence.pad_sequences(x_test, maxlen=max_len)\n",
        "print('Data Preprocessed successfully')"
      ],
      "metadata": {
        "colab": {
          "base_uri": "https://localhost:8080/"
        },
        "id": "U31VFOlueHgl",
        "outputId": "42e3d815-07a2-4ed7-f008-1c372cf893e8"
      },
      "execution_count": null,
      "outputs": [
        {
          "output_type": "stream",
          "name": "stdout",
          "text": [
            "Data Preprocessed successfully\n"
          ]
        }
      ]
    },
    {
      "cell_type": "code",
      "source": [
        "RNN = models.Sequential()\n",
        "\n",
        "RNN.add(layers.Embedding(max_features, embedding_size, input_length = max_len))\n",
        "RNN.add(layers.Dropout(dropout_rate))\n",
        "\n",
        "\n",
        "RNN.add(layers.SimpleRNN(units=25))\n",
        "\n",
        "RNN.add(layers.Dense(hidden_layers_size, activation='relu'))\n",
        "RNN.add(layers.Dropout(dropout_rate))\n",
        "\n",
        "RNN.add(layers.Dense(1, activation='sigmoid'))"
      ],
      "metadata": {
        "id": "O7htSetfe3qt"
      },
      "execution_count": null,
      "outputs": []
    },
    {
      "cell_type": "code",
      "source": [
        "RNN.compile(optimizer='adam', loss='binary_crossentropy', metrics=['accuracy'])"
      ],
      "metadata": {
        "id": "tJcAy1Y2fDvX"
      },
      "execution_count": null,
      "outputs": []
    },
    {
      "cell_type": "code",
      "source": [
        "RNN.fit(x_train, y_train, batch_size=batch_size, epochs=num_epochs, validation_data=(x_test, y_test))"
      ],
      "metadata": {
        "colab": {
          "base_uri": "https://localhost:8080/"
        },
        "id": "oUX10F-Qi9Lc",
        "outputId": "5f31609c-dc39-4214-ad71-c604f6a2ddf2"
      },
      "execution_count": null,
      "outputs": [
        {
          "output_type": "stream",
          "name": "stdout",
          "text": [
            "Epoch 1/5\n",
            "\u001b[1m391/391\u001b[0m \u001b[32m━━━━━━━━━━━━━━━━━━━━\u001b[0m\u001b[37m\u001b[0m \u001b[1m12s\u001b[0m 18ms/step - accuracy: 0.6599 - loss: 0.5897 - val_accuracy: 0.8240 - val_loss: 0.4099\n",
            "Epoch 2/5\n",
            "\u001b[1m391/391\u001b[0m \u001b[32m━━━━━━━━━━━━━━━━━━━━\u001b[0m\u001b[37m\u001b[0m \u001b[1m6s\u001b[0m 15ms/step - accuracy: 0.8478 - loss: 0.3590 - val_accuracy: 0.8334 - val_loss: 0.3973\n",
            "Epoch 3/5\n",
            "\u001b[1m391/391\u001b[0m \u001b[32m━━━━━━━━━━━━━━━━━━━━\u001b[0m\u001b[37m\u001b[0m \u001b[1m5s\u001b[0m 12ms/step - accuracy: 0.8748 - loss: 0.3066 - val_accuracy: 0.8418 - val_loss: 0.3971\n",
            "Epoch 4/5\n",
            "\u001b[1m391/391\u001b[0m \u001b[32m━━━━━━━━━━━━━━━━━━━━\u001b[0m\u001b[37m\u001b[0m \u001b[1m6s\u001b[0m 15ms/step - accuracy: 0.8967 - loss: 0.2626 - val_accuracy: 0.8380 - val_loss: 0.4091\n",
            "Epoch 5/5\n",
            "\u001b[1m391/391\u001b[0m \u001b[32m━━━━━━━━━━━━━━━━━━━━\u001b[0m\u001b[37m\u001b[0m \u001b[1m9s\u001b[0m 12ms/step - accuracy: 0.9072 - loss: 0.2343 - val_accuracy: 0.8352 - val_loss: 0.4568\n"
          ]
        },
        {
          "output_type": "execute_result",
          "data": {
            "text/plain": [
              "<keras.src.callbacks.history.History at 0x7fbf3284b350>"
            ]
          },
          "metadata": {},
          "execution_count": 15
        }
      ]
    },
    {
      "cell_type": "code",
      "source": [
        "test_loss, test_acc = RNN.evaluate(x_test, y_test)\n",
        "print('Test Loss = ', test_loss)\n",
        "print('Test Accuracy = ', test_acc)"
      ],
      "metadata": {
        "colab": {
          "base_uri": "https://localhost:8080/"
        },
        "id": "e2ghUgq5jGaB",
        "outputId": "1c69ca84-7dc8-43a4-9fa5-ce02e99d4247"
      },
      "execution_count": null,
      "outputs": [
        {
          "output_type": "stream",
          "name": "stdout",
          "text": [
            "\u001b[1m782/782\u001b[0m \u001b[32m━━━━━━━━━━━━━━━━━━━━\u001b[0m\u001b[37m\u001b[0m \u001b[1m3s\u001b[0m 4ms/step - accuracy: 0.8356 - loss: 0.4621\n",
            "Test Loss =  0.45679542422294617\n",
            "Test Accuracy =  0.8352000117301941\n"
          ]
        }
      ]
    },
    {
      "cell_type": "code",
      "source": [
        "word_index = imdb.get_word_index()\n",
        "index_word = {v + 3: k for k, v in word_index.items()}\n",
        "index_word[0], index_word[1], index_word[2] = '<PAD>', '<START>', '<UNK>'\n"
      ],
      "metadata": {
        "id": "Y4dZxXwvXHQH"
      },
      "execution_count": null,
      "outputs": []
    },
    {
      "cell_type": "code",
      "source": [
        "review_1 = \"I really loved this movie. The story was amazing and the acting was great!\""
      ],
      "metadata": {
        "id": "DyL7KvXhYwkP"
      },
      "execution_count": null,
      "outputs": []
    },
    {
      "cell_type": "code",
      "source": [
        "words = review_1.lower().split()\n",
        "sequence_1 = [word_index.get(word, 2) for word in words]\n",
        "sequence_1 = sequence_1[:max_len]\n",
        "padded_sequence_1 = sequence.pad_sequences([sequence_1], maxlen=max_len)"
      ],
      "metadata": {
        "id": "8gQissYDY4nD"
      },
      "execution_count": null,
      "outputs": []
    },
    {
      "cell_type": "code",
      "source": [
        "prediction_1 = RNN.predict(padded_sequence_1)[0][0]\n",
        "sentiment_1 = \"Positive\" if prediction_1 > 0.5 else \"Negative\"\n",
        "print(f\"\\nReview: {review_1}\")\n",
        "print(f\"Predicted Sentiment: {sentiment_1} (Score: {prediction_1:.4f})\")"
      ],
      "metadata": {
        "colab": {
          "base_uri": "https://localhost:8080/"
        },
        "id": "0gPZ_-egY6pC",
        "outputId": "83100a02-0edb-4c7c-d7d0-d86f75deac6d"
      },
      "execution_count": null,
      "outputs": [
        {
          "output_type": "stream",
          "name": "stdout",
          "text": [
            "\u001b[1m1/1\u001b[0m \u001b[32m━━━━━━━━━━━━━━━━━━━━\u001b[0m\u001b[37m\u001b[0m \u001b[1m0s\u001b[0m 31ms/step\n",
            "\n",
            "Review: I really loved this movie. The story was amazing and the acting was great!\n",
            "Predicted Sentiment: Positive (Score: 0.5003)\n"
          ]
        }
      ]
    },
    {
      "cell_type": "code",
      "source": [],
      "metadata": {
        "id": "48py28gqZ7fM"
      },
      "execution_count": null,
      "outputs": []
    }
  ]
}